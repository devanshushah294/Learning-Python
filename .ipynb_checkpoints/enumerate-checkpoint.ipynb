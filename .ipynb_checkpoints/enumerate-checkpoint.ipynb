{
 "cells": [
  {
   "cell_type": "code",
   "execution_count": 1,
   "id": "628401a7",
   "metadata": {},
   "outputs": [
    {
     "name": "stdout",
     "output_type": "stream",
     "text": [
      "23\n",
      "0\n",
      "34\n",
      "1\n",
      "45\n",
      "2\n",
      "56\n",
      "3\n",
      "78\n",
      "4\n",
      "67\n",
      "5\n",
      "89\n",
      "6\n",
      "98\n",
      "7\n"
     ]
    }
   ],
   "source": [
    "index = 0;\n",
    "marks = [23,34,45,56,78,67,89,98]\n",
    "for a in marks:\n",
    "    print(a)\n",
    "    print(index)\n",
    "    index += 1"
   ]
  },
  {
   "cell_type": "code",
   "execution_count": 2,
   "id": "c89070af",
   "metadata": {
    "scrolled": true
   },
   "outputs": [
    {
     "name": "stdout",
     "output_type": "stream",
     "text": [
      "23\n",
      "0\n",
      "34\n",
      "1\n",
      "45\n",
      "2\n",
      "56\n",
      "3\n",
      "78\n",
      "4\n",
      "67\n",
      "5\n",
      "89\n",
      "6\n",
      "98\n",
      "7\n"
     ]
    }
   ],
   "source": [
    "marks = [23,34,45,56,78,67,89,98]\n",
    "for index,a in enumerate(marks):\n",
    "    print(a)\n",
    "    print(index)"
   ]
  },
  {
   "cell_type": "code",
   "execution_count": 3,
   "id": "cc783c7f",
   "metadata": {},
   "outputs": [
    {
     "name": "stdout",
     "output_type": "stream",
     "text": [
      "23\n",
      "1\n",
      "34\n",
      "2\n",
      "45\n",
      "3\n",
      "56\n",
      "4\n",
      "78\n",
      "5\n",
      "67\n",
      "6\n",
      "89\n",
      "7\n",
      "98\n",
      "8\n"
     ]
    }
   ],
   "source": [
    "marks = [23,34,45,56,78,67,89,98]\n",
    "for index,a in enumerate(marks,start=1):\n",
    "    print(a)\n",
    "    print(index)"
   ]
  },
  {
   "cell_type": "code",
   "execution_count": null,
   "id": "fd855096",
   "metadata": {},
   "outputs": [],
   "source": []
  }
 ],
 "metadata": {
  "kernelspec": {
   "display_name": "Python 3 (ipykernel)",
   "language": "python",
   "name": "python3"
  },
  "language_info": {
   "codemirror_mode": {
    "name": "ipython",
    "version": 3
   },
   "file_extension": ".py",
   "mimetype": "text/x-python",
   "name": "python",
   "nbconvert_exporter": "python",
   "pygments_lexer": "ipython3",
   "version": "3.10.9"
  }
 },
 "nbformat": 4,
 "nbformat_minor": 5
}
